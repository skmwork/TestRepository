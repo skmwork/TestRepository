{
 "cells": [
  {
   "cell_type": "code",
   "execution_count": 2,
   "metadata": {},
   "outputs": [],
   "source": [
    "import numpy as np"
   ]
  },
  {
   "cell_type": "code",
   "execution_count": 3,
   "metadata": {},
   "outputs": [],
   "source": [
    "x = np.array([[1,2],[3,4],[5,6],[7,8]])"
   ]
  },
  {
   "cell_type": "code",
   "execution_count": 4,
   "metadata": {},
   "outputs": [
    {
     "data": {
      "text/plain": [
       "array([3, 4])"
      ]
     },
     "execution_count": 4,
     "metadata": {},
     "output_type": "execute_result"
    }
   ],
   "source": [
    "x[1]"
   ]
  },
  {
   "cell_type": "code",
   "execution_count": 5,
   "metadata": {},
   "outputs": [
    {
     "data": {
      "text/plain": [
       "array([3, 4])"
      ]
     },
     "execution_count": 5,
     "metadata": {},
     "output_type": "execute_result"
    }
   ],
   "source": [
    "x[1,:]"
   ]
  },
  {
   "cell_type": "code",
   "execution_count": 6,
   "metadata": {},
   "outputs": [
    {
     "data": {
      "text/plain": [
       "array([2, 4, 6, 8])"
      ]
     },
     "execution_count": 6,
     "metadata": {},
     "output_type": "execute_result"
    }
   ],
   "source": [
    "x[:,1]"
   ]
  },
  {
   "cell_type": "code",
   "execution_count": 7,
   "metadata": {},
   "outputs": [],
   "source": [
    "a = x[2,:]"
   ]
  },
  {
   "cell_type": "code",
   "execution_count": 8,
   "metadata": {},
   "outputs": [
    {
     "data": {
      "text/plain": [
       "array([5, 6])"
      ]
     },
     "execution_count": 8,
     "metadata": {},
     "output_type": "execute_result"
    }
   ],
   "source": [
    "a"
   ]
  },
  {
   "cell_type": "code",
   "execution_count": 9,
   "metadata": {},
   "outputs": [],
   "source": [
    "a[0]=25"
   ]
  },
  {
   "cell_type": "code",
   "execution_count": 12,
   "metadata": {},
   "outputs": [],
   "source": [
    "x = np.array([[1,2],[3,4],[5,6],[7,8]], dtype=np.float64)"
   ]
  },
  {
   "cell_type": "code",
   "execution_count": 13,
   "metadata": {},
   "outputs": [
    {
     "data": {
      "text/plain": [
       "array([[1., 2.],\n",
       "       [3., 4.],\n",
       "       [5., 6.],\n",
       "       [7., 8.]])"
      ]
     },
     "execution_count": 13,
     "metadata": {},
     "output_type": "execute_result"
    }
   ],
   "source": [
    "x"
   ]
  },
  {
   "cell_type": "code",
   "execution_count": 3,
   "metadata": {},
   "outputs": [],
   "source": [
    "x3 = np.logspace(0, 100, 101, dtype=np.float64)"
   ]
  },
  {
   "cell_type": "code",
   "execution_count": 4,
   "metadata": {},
   "outputs": [
    {
     "data": {
      "text/plain": [
       "array([1.e+000, 1.e+001, 1.e+002, 1.e+003, 1.e+004, 1.e+005, 1.e+006,\n",
       "       1.e+007, 1.e+008, 1.e+009, 1.e+010, 1.e+011, 1.e+012, 1.e+013,\n",
       "       1.e+014, 1.e+015, 1.e+016, 1.e+017, 1.e+018, 1.e+019, 1.e+020,\n",
       "       1.e+021, 1.e+022, 1.e+023, 1.e+024, 1.e+025, 1.e+026, 1.e+027,\n",
       "       1.e+028, 1.e+029, 1.e+030, 1.e+031, 1.e+032, 1.e+033, 1.e+034,\n",
       "       1.e+035, 1.e+036, 1.e+037, 1.e+038, 1.e+039, 1.e+040, 1.e+041,\n",
       "       1.e+042, 1.e+043, 1.e+044, 1.e+045, 1.e+046, 1.e+047, 1.e+048,\n",
       "       1.e+049, 1.e+050, 1.e+051, 1.e+052, 1.e+053, 1.e+054, 1.e+055,\n",
       "       1.e+056, 1.e+057, 1.e+058, 1.e+059, 1.e+060, 1.e+061, 1.e+062,\n",
       "       1.e+063, 1.e+064, 1.e+065, 1.e+066, 1.e+067, 1.e+068, 1.e+069,\n",
       "       1.e+070, 1.e+071, 1.e+072, 1.e+073, 1.e+074, 1.e+075, 1.e+076,\n",
       "       1.e+077, 1.e+078, 1.e+079, 1.e+080, 1.e+081, 1.e+082, 1.e+083,\n",
       "       1.e+084, 1.e+085, 1.e+086, 1.e+087, 1.e+088, 1.e+089, 1.e+090,\n",
       "       1.e+091, 1.e+092, 1.e+093, 1.e+094, 1.e+095, 1.e+096, 1.e+097,\n",
       "       1.e+098, 1.e+099, 1.e+100])"
      ]
     },
     "execution_count": 4,
     "metadata": {},
     "output_type": "execute_result"
    }
   ],
   "source": [
    "x3"
   ]
  },
  {
   "cell_type": "code",
   "execution_count": 6,
   "metadata": {},
   "outputs": [],
   "source": [
    "x4 = np.geomspace(1,100,101, dtype=np.float64)"
   ]
  },
  {
   "cell_type": "code",
   "execution_count": 7,
   "metadata": {},
   "outputs": [
    {
     "data": {
      "text/plain": [
       "array([  1.        ,   1.04712855,   1.0964782 ,   1.14815362,\n",
       "         1.20226443,   1.25892541,   1.31825674,   1.38038426,\n",
       "         1.44543977,   1.51356125,   1.58489319,   1.65958691,\n",
       "         1.73780083,   1.81970086,   1.90546072,   1.99526231,\n",
       "         2.08929613,   2.18776162,   2.29086765,   2.39883292,\n",
       "         2.51188643,   2.63026799,   2.7542287 ,   2.8840315 ,\n",
       "         3.01995172,   3.16227766,   3.31131121,   3.4673685 ,\n",
       "         3.63078055,   3.80189396,   3.98107171,   4.16869383,\n",
       "         4.36515832,   4.5708819 ,   4.78630092,   5.01187234,\n",
       "         5.2480746 ,   5.49540874,   5.75439937,   6.02559586,\n",
       "         6.30957344,   6.60693448,   6.91830971,   7.2443596 ,\n",
       "         7.58577575,   7.94328235,   8.31763771,   8.7096359 ,\n",
       "         9.12010839,   9.54992586,  10.        ,  10.47128548,\n",
       "        10.96478196,  11.48153621,  12.02264435,  12.58925412,\n",
       "        13.18256739,  13.80384265,  14.45439771,  15.13561248,\n",
       "        15.84893192,  16.59586907,  17.37800829,  18.19700859,\n",
       "        19.05460718,  19.95262315,  20.89296131,  21.87761624,\n",
       "        22.90867653,  23.98832919,  25.11886432,  26.30267992,\n",
       "        27.54228703,  28.84031503,  30.1995172 ,  31.6227766 ,\n",
       "        33.11311215,  34.67368505,  36.30780548,  38.01893963,\n",
       "        39.81071706,  41.68693835,  43.65158322,  45.70881896,\n",
       "        47.86300923,  50.11872336,  52.48074602,  54.95408739,\n",
       "        57.54399373,  60.25595861,  63.09573445,  66.0693448 ,\n",
       "        69.18309709,  72.44359601,  75.8577575 ,  79.43282347,\n",
       "        83.17637711,  87.096359  ,  91.20108394,  95.4992586 ,\n",
       "       100.        ])"
      ]
     },
     "execution_count": 7,
     "metadata": {},
     "output_type": "execute_result"
    }
   ],
   "source": [
    "x4"
   ]
  },
  {
   "cell_type": "code",
   "execution_count": 12,
   "metadata": {},
   "outputs": [],
   "source": [
    "x4 = np.linspace(0,100, 11,dtype=np.float64)"
   ]
  },
  {
   "cell_type": "code",
   "execution_count": 13,
   "metadata": {},
   "outputs": [
    {
     "data": {
      "text/plain": [
       "array([  0.,  10.,  20.,  30.,  40.,  50.,  60.,  70.,  80.,  90., 100.])"
      ]
     },
     "execution_count": 13,
     "metadata": {},
     "output_type": "execute_result"
    }
   ],
   "source": [
    "x4"
   ]
  },
  {
   "cell_type": "code",
   "execution_count": null,
   "metadata": {},
   "outputs": [],
   "source": []
  }
 ],
 "metadata": {
  "kernelspec": {
   "display_name": "Python 3",
   "language": "python",
   "name": "python3"
  },
  "language_info": {
   "codemirror_mode": {
    "name": "ipython",
    "version": 3
   },
   "file_extension": ".py",
   "mimetype": "text/x-python",
   "name": "python",
   "nbconvert_exporter": "python",
   "pygments_lexer": "ipython3",
   "version": "3.8.2"
  }
 },
 "nbformat": 4,
 "nbformat_minor": 4
}
